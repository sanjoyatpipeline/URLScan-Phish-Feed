{
 "cells": [
  {
   "cell_type": "code",
   "execution_count": 1,
   "metadata": {},
   "outputs": [],
   "source": [
    "# import urllib3\n",
    "import pandas as pd\n",
    "import tldextract\n",
    "import datetime;\n",
    "import csv\n",
    "import requests\n",
    "import io\n",
    "import time\n",
    "import pandas as pd\n",
    "import os\n",
    "from os import listdir\n",
    "import getpass\n",
    "import sys \n",
    "from os.path import isfile, join,getmtime\n",
    "import json\n",
    "import urllib\n",
    "import urllib.parse\n",
    "import urllib.request\n",
    "from tldextract import extract\n",
    "\n",
    "\n",
    "import numpy as np\n",
    "import matplotlib.pyplot as plt\n",
    "import seaborn as sns\n",
    "%matplotlib inline\n",
    "\n",
    "import psycopg2 \n",
    "import io\n",
    "import sql  # the patched version (file is named sql.py)"
   ]
  },
  {
   "cell_type": "code",
   "execution_count": 2,
   "metadata": {},
   "outputs": [
    {
     "data": {
      "text/html": [
       "<div>\n",
       "<style scoped>\n",
       "    .dataframe tbody tr th:only-of-type {\n",
       "        vertical-align: middle;\n",
       "    }\n",
       "\n",
       "    .dataframe tbody tr th {\n",
       "        vertical-align: top;\n",
       "    }\n",
       "\n",
       "    .dataframe thead th {\n",
       "        text-align: right;\n",
       "    }\n",
       "</style>\n",
       "<table border=\"1\" class=\"dataframe\">\n",
       "  <thead>\n",
       "    <tr style=\"text-align: right;\">\n",
       "      <th></th>\n",
       "      <th>countrycode;\"country\";\"start_ip\";\"end_ip\"</th>\n",
       "    </tr>\n",
       "  </thead>\n",
       "  <tbody>\n",
       "    <tr>\n",
       "      <td>0</td>\n",
       "      <td>FR;\"France\";\"200::\";\"200:8ff::\"</td>\n",
       "    </tr>\n",
       "    <tr>\n",
       "      <td>1</td>\n",
       "      <td>FR;\"France\";\"200:900::\";\"200:eff::\"</td>\n",
       "    </tr>\n",
       "    <tr>\n",
       "      <td>2</td>\n",
       "      <td>FR;\"France\";\"200:f00::\";\"200:10ff::\"</td>\n",
       "    </tr>\n",
       "    <tr>\n",
       "      <td>3</td>\n",
       "      <td>FR;\"France\";\"200:1100::\";\"200:11ff::\"</td>\n",
       "    </tr>\n",
       "    <tr>\n",
       "      <td>4</td>\n",
       "      <td>FR;\"France\";\"200:1200::\";\"200:1bff::\"</td>\n",
       "    </tr>\n",
       "    <tr>\n",
       "      <td>...</td>\n",
       "      <td>...</td>\n",
       "    </tr>\n",
       "    <tr>\n",
       "      <td>994</td>\n",
       "      <td>FR;\"France\";\"20e:7200::\";\"20e:78ff::\"</td>\n",
       "    </tr>\n",
       "    <tr>\n",
       "      <td>995</td>\n",
       "      <td>FR;\"France\";\"20e:7900::\";\"20e:79ff::\"</td>\n",
       "    </tr>\n",
       "    <tr>\n",
       "      <td>996</td>\n",
       "      <td>FR;\"France\";\"20e:7a00::\";\"20e:7bff::\"</td>\n",
       "    </tr>\n",
       "    <tr>\n",
       "      <td>997</td>\n",
       "      <td>FR;\"France\";\"20e:7c00::\";\"20e:7cff::\"</td>\n",
       "    </tr>\n",
       "    <tr>\n",
       "      <td>998</td>\n",
       "      <td>FR;\"France\";\"20e:7d00::\";\"20e:7dff::\"</td>\n",
       "    </tr>\n",
       "  </tbody>\n",
       "</table>\n",
       "<p>999 rows × 1 columns</p>\n",
       "</div>"
      ],
      "text/plain": [
       "    countrycode;\"country\";\"start_ip\";\"end_ip\"\n",
       "0             FR;\"France\";\"200::\";\"200:8ff::\"\n",
       "1         FR;\"France\";\"200:900::\";\"200:eff::\"\n",
       "2        FR;\"France\";\"200:f00::\";\"200:10ff::\"\n",
       "3       FR;\"France\";\"200:1100::\";\"200:11ff::\"\n",
       "4       FR;\"France\";\"200:1200::\";\"200:1bff::\"\n",
       "..                                        ...\n",
       "994     FR;\"France\";\"20e:7200::\";\"20e:78ff::\"\n",
       "995     FR;\"France\";\"20e:7900::\";\"20e:79ff::\"\n",
       "996     FR;\"France\";\"20e:7a00::\";\"20e:7bff::\"\n",
       "997     FR;\"France\";\"20e:7c00::\";\"20e:7cff::\"\n",
       "998     FR;\"France\";\"20e:7d00::\";\"20e:7dff::\"\n",
       "\n",
       "[999 rows x 1 columns]"
      ]
     },
     "execution_count": 2,
     "metadata": {},
     "output_type": "execute_result"
    }
   ],
   "source": [
    "###Read CSV File\n",
    "networkdb1 = pd.read_csv(r\"C:\\Users\\imsanjoykb\\Downloads\\networksdb.io-ip_to_country_ipv6.csv\")\n",
    "networkdb1"
   ]
  },
  {
   "cell_type": "code",
   "execution_count": null,
   "metadata": {},
   "outputs": [],
   "source": [
    "networkdb3"
   ]
  },
  {
   "cell_type": "code",
   "execution_count": null,
   "metadata": {},
   "outputs": [],
   "source": [
    "networkdb3"
   ]
  },
  {
   "cell_type": "code",
   "execution_count": null,
   "metadata": {},
   "outputs": [],
   "source": [
    "networkdb3"
   ]
  },
  {
   "cell_type": "code",
   "execution_count": null,
   "metadata": {},
   "outputs": [],
   "source": [
    "networkdb3"
   ]
  },
  {
   "cell_type": "code",
   "execution_count": null,
   "metadata": {},
   "outputs": [],
   "source": [
    "networkdb3"
   ]
  },
  {
   "cell_type": "code",
   "execution_count": null,
   "metadata": {},
   "outputs": [],
   "source": []
  },
  {
   "cell_type": "code",
   "execution_count": null,
   "metadata": {},
   "outputs": [],
   "source": []
  }
 ],
 "metadata": {
  "kernelspec": {
   "display_name": "Python 3",
   "language": "python",
   "name": "python3"
  },
  "language_info": {
   "codemirror_mode": {
    "name": "ipython",
    "version": 3
   },
   "file_extension": ".py",
   "mimetype": "text/x-python",
   "name": "python",
   "nbconvert_exporter": "python",
   "pygments_lexer": "ipython3",
   "version": "3.7.4"
  }
 },
 "nbformat": 4,
 "nbformat_minor": 2
}
